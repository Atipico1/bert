{
 "cells": [
  {
   "cell_type": "code",
   "execution_count": 1,
   "metadata": {},
   "outputs": [
    {
     "name": "stderr",
     "output_type": "stream",
     "text": [
      "/data/seongilpark/.conda/envs/exp/lib/python3.10/site-packages/transformers/utils/hub.py:127: FutureWarning: Using `TRANSFORMERS_CACHE` is deprecated and will be removed in v5 of Transformers. Use `HF_HOME` instead.\n",
      "  warnings.warn(\n"
     ]
    }
   ],
   "source": [
    "from transformers import AutoTokenizer, BertForMaskedLM, BertTokenizer, AutoModelForMaskedLM\n",
    "import torch\n",
    "# device = \"cuda:2\"\n",
    "# model = BertForMaskedLM.from_pretrained(\"result2/checkpoint-10000\")"
   ]
  },
  {
   "cell_type": "code",
   "execution_count": 2,
   "metadata": {},
   "outputs": [
    {
     "name": "stderr",
     "output_type": "stream",
     "text": [
      "/data/seongilpark/.conda/envs/exp/lib/python3.10/site-packages/transformers/tokenization_utils_base.py:2185: FutureWarning: Calling BertTokenizer.from_pretrained() with the path to a single file or url is deprecated and won't be possible anymore in v5. Use a model identifier or the path to a directory instead.\n",
      "  warnings.warn(\n"
     ]
    }
   ],
   "source": [
    "tokenizer = BertTokenizer.from_pretrained(\"final-clean-vocab.txt\")"
   ]
  },
  {
   "cell_type": "code",
   "execution_count": 3,
   "metadata": {},
   "outputs": [
    {
     "data": {
      "text/plain": [
       "['[UNK]']"
      ]
     },
     "execution_count": 3,
     "metadata": {},
     "output_type": "execute_result"
    }
   ],
   "source": [
    "tokenizer.tokenize(\"博\")"
   ]
  },
  {
   "cell_type": "code",
   "execution_count": 6,
   "metadata": {},
   "outputs": [],
   "source": [
    "text = \"우리 나라의 수도는 [MASK]이다.\"\n",
    "eng_text = \"The capital of Korea is [MASK][MASK].\""
   ]
  },
  {
   "cell_type": "code",
   "execution_count": 7,
   "metadata": {},
   "outputs": [
    {
     "data": {
      "text/plain": [
       "['우리', '나라의', '수도', '##는', '[MASK]', '이다', '.']"
      ]
     },
     "execution_count": 7,
     "metadata": {},
     "output_type": "execute_result"
    }
   ],
   "source": [
    "inputs = tokenizer(text, return_tensors=\"pt\")\n",
    "tokenizer.tokenize(text)"
   ]
  },
  {
   "cell_type": "code",
   "execution_count": 140,
   "metadata": {},
   "outputs": [
    {
     "data": {
      "text/plain": [
       "['우리나라의', '수도', '##는', '[MASK]', '이다', '.']"
      ]
     },
     "execution_count": 140,
     "metadata": {},
     "output_type": "execute_result"
    }
   ],
   "source": [
    "inputs = tokenizer(text, return_tensors=\"pt\")\n",
    "tokenizer.tokenize(text)"
   ]
  },
  {
   "cell_type": "code",
   "execution_count": 130,
   "metadata": {},
   "outputs": [
    {
     "data": {
      "text/plain": [
       "['the', 'cap', '##it', '##al', 'of', 'korea', 'is', '[MASK]', '[MASK]', '.']"
      ]
     },
     "execution_count": 130,
     "metadata": {},
     "output_type": "execute_result"
    }
   ],
   "source": [
    "inputs = tokenizer(text, return_tensors=\"pt\")\n",
    "tokenizer.tokenize(eng_text)"
   ]
  },
  {
   "cell_type": "code",
   "execution_count": 80,
   "metadata": {},
   "outputs": [
    {
     "data": {
      "text/plain": [
       "4"
      ]
     },
     "execution_count": 80,
     "metadata": {},
     "output_type": "execute_result"
    }
   ],
   "source": [
    "tokenizer.mask_token_id"
   ]
  },
  {
   "cell_type": "code",
   "execution_count": 81,
   "metadata": {},
   "outputs": [
    {
     "data": {
      "text/plain": [
       "{'input_ids': tensor([[    2,  9562,    71, 10422,  7436,  7173,  9676,    79, 24552, 15113,\n",
       "             4,     4,    18,     3]]), 'token_type_ids': tensor([[0, 0, 0, 0, 0, 0, 0, 0, 0, 0, 0, 0, 0, 0]]), 'attention_mask': tensor([[1, 1, 1, 1, 1, 1, 1, 1, 1, 1, 1, 1, 1, 1]])}"
      ]
     },
     "execution_count": 81,
     "metadata": {},
     "output_type": "execute_result"
    }
   ],
   "source": [
    "inputs"
   ]
  },
  {
   "cell_type": "code",
   "execution_count": 82,
   "metadata": {},
   "outputs": [],
   "source": [
    "with torch.no_grad():\n",
    "    outputs = model(**inputs)\n",
    "    logits = outputs.logits"
   ]
  },
  {
   "cell_type": "code",
   "execution_count": 83,
   "metadata": {},
   "outputs": [],
   "source": [
    "maksed_index = inputs[\"input_ids\"][0].tolist().index(tokenizer.mask_token_id)"
   ]
  },
  {
   "cell_type": "code",
   "execution_count": 86,
   "metadata": {},
   "outputs": [
    {
     "data": {
      "text/plain": [
       "10"
      ]
     },
     "execution_count": 86,
     "metadata": {},
     "output_type": "execute_result"
    }
   ],
   "source": [
    "maksed_index"
   ]
  },
  {
   "cell_type": "code",
   "execution_count": 85,
   "metadata": {},
   "outputs": [
    {
     "data": {
      "text/plain": [
       "'##ᅡᅵᆫᅳᄋ'"
      ]
     },
     "execution_count": 85,
     "metadata": {},
     "output_type": "execute_result"
    }
   ],
   "source": [
    "tokenizer.decode(logits[0, maksed_index].topk(5).indices)"
   ]
  },
  {
   "cell_type": "code",
   "execution_count": 1,
   "metadata": {},
   "outputs": [
    {
     "data": {
      "text/plain": [
       "True"
      ]
     },
     "execution_count": 1,
     "metadata": {},
     "output_type": "execute_result"
    }
   ],
   "source": [
    "'ع'.isalnum()"
   ]
  },
  {
   "cell_type": "code",
   "execution_count": 2,
   "metadata": {},
   "outputs": [],
   "source": [
    "import re\n",
    "pattern = re.compile(r'<[^>]*>')\n",
    "\n",
    "def remove_tags(input_string):\n",
    "    cleaned_string = pattern.sub('', input_string)\n",
    "    return cleaned_string"
   ]
  },
  {
   "cell_type": "code",
   "execution_count": 3,
   "metadata": {},
   "outputs": [
    {
     "data": {
      "text/plain": [
       "'dioagij'"
      ]
     },
     "execution_count": 3,
     "metadata": {},
     "output_type": "execute_result"
    }
   ],
   "source": [
    "remove_tags(\"dioagij<a>\")"
   ]
  },
  {
   "cell_type": "code",
   "execution_count": 6,
   "metadata": {},
   "outputs": [
    {
     "data": {
      "text/plain": [
       "True"
      ]
     },
     "execution_count": 6,
     "metadata": {},
     "output_type": "execute_result"
    }
   ],
   "source": [
    "\"1\".isalnum()"
   ]
  },
  {
   "cell_type": "code",
   "execution_count": 8,
   "metadata": {},
   "outputs": [],
   "source": [
    "from datasets import load_from_disk\n",
    "from tqdm.auto import tqdm\n",
    "dataset = load_from_disk(\"corpus\")[\"train\"].shuffle(seed=42)\n",
    "dataset = dataset.select(range(int(len(dataset)*0.1)))\n",
    "texts = dataset[\"text\"]\n",
    "output = []"
   ]
  },
  {
   "cell_type": "code",
   "execution_count": 12,
   "metadata": {},
   "outputs": [
    {
     "data": {
      "application/vnd.jupyter.widget-view+json": {
       "model_id": "336f861532074ca0b4b44ec3349f7bfe",
       "version_major": 2,
       "version_minor": 0
      },
      "text/plain": [
       "  0%|          | 0/7317164 [00:00<?, ?it/s]"
      ]
     },
     "metadata": {},
     "output_type": "display_data"
    }
   ],
   "source": [
    "for text in tqdm(texts):\n",
    "    for char in text:\n",
    "        if not (char.isalnum() or char.isspace()):\n",
    "            output.append(char)"
   ]
  },
  {
   "cell_type": "code",
   "execution_count": 14,
   "metadata": {},
   "outputs": [
    {
     "data": {
      "text/plain": [
       "152488489"
      ]
     },
     "execution_count": 14,
     "metadata": {},
     "output_type": "execute_result"
    }
   ],
   "source": [
    "len(output)"
   ]
  },
  {
   "cell_type": "code",
   "execution_count": 15,
   "metadata": {},
   "outputs": [],
   "source": [
    "from collections import Counter\n",
    "counter = Counter(output)"
   ]
  },
  {
   "cell_type": "code",
   "execution_count": 20,
   "metadata": {},
   "outputs": [],
   "source": [
    "commons = counter.most_common(100)"
   ]
  },
  {
   "cell_type": "code",
   "execution_count": 22,
   "metadata": {},
   "outputs": [],
   "source": [
    "top100 = [char for char, _ in commons]"
   ]
  },
  {
   "cell_type": "code",
   "execution_count": 23,
   "metadata": {},
   "outputs": [
    {
     "name": "stdout",
     "output_type": "stream",
     "text": [
      "['.', ',', ')', '(', \"'\", '>', '<', '\"', '·', '-', ':', '?', '’', '‘', '%', '“', '○', '”', '/', '!', '=', '~', ';', '…', '&', ']', '[', '*', '「', '」', '#', '□', '▲', '©', '|', '△', '@', '【', '】', '_', '+', '․', '→', '』', '『', '‧', '∼', '•', '◇', '㎡', '※', '', '《', '》', 'ⓒ', '◦', '・', '{', '◎', '〈', '〉', '▶', '；', '㈜', '\\\\', '㎞', '■', '×', '`', '–', '─', '∙', '❍', '━', '。', '◆', '㎝', '°', '▪', '}', '㎜', '\\u200b', '●', '％', '★', '$', '℃', '｣', '｢', '≫', '―', '^', '▷', '≪', '☞', '↑', '▸', '☆', '◈', '▢']\n"
     ]
    }
   ],
   "source": [
    "print(top100)"
   ]
  },
  {
   "cell_type": "code",
   "execution_count": 21,
   "metadata": {},
   "outputs": [
    {
     "data": {
      "image/png": "[encoded data removed]",
      "text/plain": [
       "<Figure size 1000x500 with 1 Axes>"
      ]
     },
     "metadata": {},
     "output_type": "display_data"
    }
   ],
   "source": [
    "import matplotlib.pyplot as plt\n",
    "\n",
    "x_labels = [item[0] for item in commons]\n",
    "y_values = [item[1] for item in commons]\n",
    "\n",
    "# 그래프 그리기\n",
    "plt.figure(figsize=(10, 5))\n",
    "plt.plot(y_values, linestyle='-', color='b')\n",
    "plt.ylabel('Values')\n",
    "plt.title('Line Graph based on Values')\n",
    "plt.grid(True)\n",
    "# x 축 레이블 회전\n",
    "plt.xticks(rotation=45)\n",
    "plt.show()"
   ]
  },
  {
   "cell_type": "code",
   "execution_count": 24,
   "metadata": {},
   "outputs": [
    {
     "data": {
      "text/plain": [
       "'LATIN SMALL LETTER U WITH ACUTE'"
      ]
     },
     "execution_count": 24,
     "metadata": {},
     "output_type": "execute_result"
    }
   ],
   "source": [
    "import unicodedata\n",
    "unicodedata.name(\"ú\")"
   ]
  },
  {
   "cell_type": "code",
   "execution_count": 26,
   "metadata": {},
   "outputs": [
    {
     "name": "stdout",
     "output_type": "stream",
     "text": [
      "lkh2011@(이메일) 이렇게 있을 때, 이메일하고 붙어 있는 모든 글자를 삭제하려면 어떻게 해\n"
     ]
    }
   ],
   "source": [
    "def remove_email_and_attached_text(input_string):\n",
    "    # 정규 표현식을 사용하여 이메일 패턴을 찾고 제거합니다.\n",
    "    cleaned_string = re.sub(r'\\S+@\\S+\\.\\S+', '', input_string)\n",
    "    # 앞뒤 공백 제거\n",
    "    cleaned_string = cleaned_string.strip()\n",
    "    return cleaned_string\n",
    "\n",
    "# 예제 문자열\n",
    "example_string = \"lkh2011@(이메일) 이렇게 있을 때, 이메일하고 붙어 있는 모든 글자를 삭제하려면 어떻게 해\"\n",
    "\n",
    "# 함수 호출\n",
    "cleaned_string = remove_email_and_attached_text(example_string)\n",
    "\n",
    "print(cleaned_string)"
   ]
  },
  {
   "cell_type": "code",
   "execution_count": 30,
   "metadata": {},
   "outputs": [
    {
     "name": "stdout",
     "output_type": "stream",
     "text": [
      ". 한 시중은행 관계자는 '저금리 기조로 인해 이자 수익이 줄어든 만큼 올해 모든 은행들은 비이자 수익을 강화할 수 밖에 없는 상황'이라며 '자산관리 적용 기준을 완화하고 증권, 보험 등을 포함한 폭넓은 서비스를 제공해야만 초반 wm 선점 경쟁에서 우위를 점할 수 있을 것'이라고 말했다.  유후\n"
     ]
    }
   ],
   "source": [
    "import re\n",
    "\n",
    "\n",
    "\n",
    "def remove_email_and_attached_text(input_string):\n",
    "    # 이메일 패턴을 찾고 제거하는 정규 표현식\n",
    "    cleaned_string = pattern.sub('', input_string)\n",
    "    # 앞뒤 공백 제거\n",
    "    cleaned_string = cleaned_string.strip()\n",
    "    return cleaned_string\n",
    "\n",
    "# 예제 문자열\n",
    "example_string = \". 한 시중은행 관계자는 '저금리 기조로 인해 이자 수익이 줄어든 만큼 올해 모든 은행들은 비이자 수익을 강화할 수 밖에 없는 상황'이라며 '자산관리 적용 기준을 완화하고 증권, 보험 등을 포함한 폭넓은 서비스를 제공해야만 초반 wm 선점 경쟁에서 우위를 점할 수 있을 것'이라고 말했다. lkh2011@(이메일) 유후\"\n",
    "\n",
    "# 함수 호출\n",
    "cleaned_string = remove_email_and_attached_text(example_string)\n",
    "\n",
    "print(cleaned_string)"
   ]
  },
  {
   "cell_type": "code",
   "execution_count": 32,
   "metadata": {},
   "outputs": [
    {
     "name": "stdout",
     "output_type": "stream",
     "text": [
      "lkh2011@naver.com 이렇게 있을 때, 이메일하고 붙어 있는 모든 글자를 삭제하려면 어떻게 해\n"
     ]
    }
   ],
   "source": [
    "import re\n",
    "\n",
    "def remove_specific_email_pattern(input_string):\n",
    "    # 정규 표현식을 사용하여 특정 패턴(~@(이메일))을 찾고 제거합니다.\n",
    "    cleaned_string = re.sub(r'\\S+@\\(\\S*이메일\\S*\\)', '', input_string)\n",
    "    # 앞뒤 공백 제거\n",
    "    cleaned_string = cleaned_string.strip()\n",
    "    return cleaned_string\n",
    "\n",
    "# 예제 문자열\n",
    "example_string = \"lkh2011@naver.com 이렇게 있을 때, 이메일하고 붙어 있는 모든 글자를 삭제하려면 어떻게 해\"\n",
    "\n",
    "# 함수 호출\n",
    "cleaned_string = remove_specific_email_pattern(example_string)\n",
    "\n",
    "print(cleaned_string)"
   ]
  },
  {
   "cell_type": "code",
   "execution_count": null,
   "metadata": {},
   "outputs": [],
   "source": []
  }
 ],
 "metadata": {
  "kernelspec": {
   "display_name": "exp",
   "language": "python",
   "name": "python3"
  },
  "language_info": {
   "codemirror_mode": {
    "name": "ipython",
    "version": 3
   },
   "file_extension": ".py",
   "mimetype": "text/x-python",
   "name": "python",
   "nbconvert_exporter": "python",
   "pygments_lexer": "ipython3",
   "version": "3.10.13"
  }
 },
 "nbformat": 4,
 "nbformat_minor": 2
}
